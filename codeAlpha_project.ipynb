{
 "cells": [
  {
   "cell_type": "markdown",
   "id": "934f8ae0",
   "metadata": {},
   "source": [
    "# IMAGE RECOGNITION"
   ]
  },
  {
   "cell_type": "markdown",
   "id": "9f761edd",
   "metadata": {},
   "source": [
    "Image recognition is a widely used application of machine learning, where\n",
    "algorithms analyze digital images by measuring pixel values. It's employed in\n",
    "various contexts, including face recognition, which identifies individuals and can\n",
    "trigger relevant notifications. This showcases the practicality and versatility of\n",
    "machine learning in diverse fields."
   ]
  },
  {
   "cell_type": "markdown",
   "id": "9297f95f",
   "metadata": {},
   "source": [
    "image recognition for digital numbers using Python and the popular library TensorFlow with its high-level API, Keras. This example will use the MNIST dataset, which consists of 28x28 grayscale images of handwritten digits from 0 to 9."
   ]
  },
  {
   "cell_type": "markdown",
   "id": "74919c0c",
   "metadata": {},
   "source": [
    "# Import libraries"
   ]
  },
  {
   "cell_type": "code",
   "execution_count": 2,
   "id": "2bbf0740",
   "metadata": {},
   "outputs": [],
   "source": [
    "import tensorflow as tf\n",
    "from tensorflow.keras.datasets import mnist\n",
    "from tensorflow.keras.models import Sequential\n",
    "from tensorflow.keras.layers import Dense, Flatten, Conv2D, MaxPooling2D\n",
    "from tensorflow.keras.utils import to_categorical"
   ]
  },
  {
   "cell_type": "markdown",
   "id": "ae42c970",
   "metadata": {},
   "source": [
    "# Load and preprocess the MNIST dataset"
   ]
  },
  {
   "cell_type": "code",
   "execution_count": 3,
   "id": "0e959359",
   "metadata": {},
   "outputs": [],
   "source": [
    "(x_train, y_train), (x_test, y_test) = mnist.load_data()\n",
    "x_train = x_train.reshape(x_train.shape[0], 28, 28, 1).astype('float32') / 255\n",
    "x_test = x_test.reshape(x_test.shape[0], 28, 28, 1).astype('float32') / 255\n",
    "y_train = to_categorical(y_train)\n",
    "y_test = to_categorical(y_test)"
   ]
  },
  {
   "cell_type": "markdown",
   "id": "cb61f2a0",
   "metadata": {},
   "source": [
    "# Define the convolutional neural network model"
   ]
  },
  {
   "cell_type": "code",
   "execution_count": 4,
   "id": "f695b5c2",
   "metadata": {},
   "outputs": [],
   "source": [
    "model = Sequential([\n",
    "    Conv2D(32, kernel_size=(3, 3), activation='relu', input_shape=(28, 28, 1)),\n",
    "    MaxPooling2D(pool_size=(2, 2)),\n",
    "    Conv2D(64, kernel_size=(3, 3), activation='relu'),\n",
    "    MaxPooling2D(pool_size=(2, 2)),\n",
    "    Flatten(),\n",
    "    Dense(128, activation='relu'),\n",
    "    Dense(10, activation='softmax')\n",
    "])\n"
   ]
  },
  {
   "cell_type": "markdown",
   "id": "a903c2fb",
   "metadata": {},
   "source": [
    "# Compile the model"
   ]
  },
  {
   "cell_type": "code",
   "execution_count": 5,
   "id": "2f4816ef",
   "metadata": {},
   "outputs": [],
   "source": [
    "model.compile(optimizer='adam', loss='categorical_crossentropy', metrics=['accuracy'])"
   ]
  },
  {
   "cell_type": "markdown",
   "id": "4586b7d8",
   "metadata": {},
   "source": [
    "# Train the model"
   ]
  },
  {
   "cell_type": "code",
   "execution_count": 6,
   "id": "93b4558d",
   "metadata": {},
   "outputs": [
    {
     "name": "stdout",
     "output_type": "stream",
     "text": [
      "Epoch 1/5\n",
      "469/469 [==============================] - 261s 545ms/step - loss: 0.2206 - accuracy: 0.9357 - val_loss: 0.0563 - val_accuracy: 0.9828\n",
      "Epoch 2/5\n",
      "469/469 [==============================] - 449s 958ms/step - loss: 0.0560 - accuracy: 0.9825 - val_loss: 0.0401 - val_accuracy: 0.9868\n",
      "Epoch 3/5\n",
      "469/469 [==============================] - 406s 867ms/step - loss: 0.0393 - accuracy: 0.9882 - val_loss: 0.0378 - val_accuracy: 0.9884\n",
      "Epoch 4/5\n",
      "469/469 [==============================] - 365s 777ms/step - loss: 0.0297 - accuracy: 0.9911 - val_loss: 0.0308 - val_accuracy: 0.9904\n",
      "Epoch 5/5\n",
      "469/469 [==============================] - 276s 588ms/step - loss: 0.0244 - accuracy: 0.9922 - val_loss: 0.0306 - val_accuracy: 0.9896\n"
     ]
    },
    {
     "data": {
      "text/plain": [
       "<keras.callbacks.History at 0x1ca1a8221a0>"
      ]
     },
     "execution_count": 6,
     "metadata": {},
     "output_type": "execute_result"
    }
   ],
   "source": [
    "model.fit(x_train, y_train, batch_size=128, epochs=5, validation_data=(x_test, y_test))\n"
   ]
  },
  {
   "cell_type": "markdown",
   "id": "852fc898",
   "metadata": {},
   "source": [
    "# Evaluate the model"
   ]
  },
  {
   "cell_type": "code",
   "execution_count": 8,
   "id": "6eaa3d04",
   "metadata": {},
   "outputs": [
    {
     "name": "stdout",
     "output_type": "stream",
     "text": [
      "313/313 [==============================] - 14s 46ms/step - loss: 0.0306 - accuracy: 0.9896\n",
      "Test Accuracy: 98.96000027656555\n"
     ]
    }
   ],
   "source": [
    "test_loss, test_accuracy = model.evaluate(x_test, y_test)\n",
    "print(f'Test Accuracy: {test_accuracy*100}')"
   ]
  },
  {
   "cell_type": "code",
   "execution_count": null,
   "id": "975410b4",
   "metadata": {},
   "outputs": [],
   "source": []
  }
 ],
 "metadata": {
  "kernelspec": {
   "display_name": "Python 3 (ipykernel)",
   "language": "python",
   "name": "python3"
  },
  "language_info": {
   "codemirror_mode": {
    "name": "ipython",
    "version": 3
   },
   "file_extension": ".py",
   "mimetype": "text/x-python",
   "name": "python",
   "nbconvert_exporter": "python",
   "pygments_lexer": "ipython3",
   "version": "3.10.9"
  }
 },
 "nbformat": 4,
 "nbformat_minor": 5
}
